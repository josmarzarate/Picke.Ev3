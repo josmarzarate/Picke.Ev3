{
  "metadata": {
    "language_info": {
      "codemirror_mode": {
        "name": "python",
        "version": 3
      },
      "file_extension": ".py",
      "mimetype": "text/x-python",
      "name": "python",
      "nbconvert_exporter": "python",
      "pygments_lexer": "ipython3",
      "version": "3.8"
    },
    "kernelspec": {
      "name": "python",
      "display_name": "Python (Pyodide)",
      "language": "python"
    }
  },
  "nbformat_minor": 4,
  "nbformat": 4,
  "cells": [
    {
      "cell_type": "code",
      "source": "import pickle\n\ndef serializar_objeto(obj, nombre_archivo):\n    with open(nombre_archivo, 'wb') as archivo:\n        pickle.dump(obj, archivo)\n\ndef deserializar_objeto(nombre_archivo):\n    with open(nombre_archivo, 'rb') as archivo:\n        obj = pickle.load(archivo)\n    return obj\n\n# Objeto que vamos a serializar\nobj = {'clave1': 'valor1', 'clave2': 'valor2'}\n\n# Serializamos el objeto\nnombre_archivo = 'objeto.pickle'\nserializar_objeto(obj, nombre_archivo)\n\n# Deserializamos el objeto\nobj_deserializado = deserializar_objeto(nombre_archivo)\n\n# Mostramos el objeto original y el objeto deserializado\nprint(\"Objeto original: \", obj)\nprint(\"Objeto deserializado: \", obj_deserializado)",
      "metadata": {
        "trusted": true
      },
      "execution_count": 1,
      "outputs": [
        {
          "name": "stdout",
          "text": "Objeto original:  {'clave1': 'valor1', 'clave2': 'valor2'}\nObjeto deserializado:  {'clave1': 'valor1', 'clave2': 'valor2'}\n",
          "output_type": "stream"
        }
      ]
    },
    {
      "cell_type": "code",
      "source": "",
      "metadata": {},
      "execution_count": null,
      "outputs": []
    }
  ]
}